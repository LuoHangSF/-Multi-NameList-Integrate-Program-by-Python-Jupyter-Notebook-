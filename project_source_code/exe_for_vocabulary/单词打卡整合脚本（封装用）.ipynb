{
 "cells": [
  {
   "cell_type": "markdown",
   "id": "6fe38ded",
   "metadata": {},
   "source": [
    "# 单词打卡整合脚本\n"
   ]
  },
  {
   "cell_type": "code",
   "execution_count": 1,
   "id": "e8f90f36",
   "metadata": {
    "ExecuteTime": {
     "end_time": "2024-09-07T02:51:19.540334Z",
     "start_time": "2024-09-07T02:51:19.028272Z"
    }
   },
   "outputs": [],
   "source": [
    "import pandas as pd\n",
    "import numpy as np"
   ]
  },
  {
   "cell_type": "markdown",
   "id": "1eddd781",
   "metadata": {},
   "source": [
    "## 读取相应打卡数据"
   ]
  },
  {
   "cell_type": "code",
   "execution_count": 2,
   "id": "473c7c3f",
   "metadata": {
    "ExecuteTime": {
     "end_time": "2024-09-07T02:51:19.825043Z",
     "start_time": "2024-09-07T02:51:19.541339Z"
    }
   },
   "outputs": [],
   "source": [
    "series30 = pd.read_excel(\"3070导出版第一周.xlsx\")\n",
    "series70 = pd.read_excel(\"71导出版第一周.xlsx\")\n",
    "#dataframeof30 = pd.DataFrame()"
   ]
  },
  {
   "cell_type": "code",
   "execution_count": 3,
   "id": "8a9c1cbf",
   "metadata": {
    "ExecuteTime": {
     "end_time": "2024-09-07T02:51:19.828258Z",
     "start_time": "2024-09-07T02:51:19.826046Z"
    }
   },
   "outputs": [],
   "source": [
    "# series70"
   ]
  },
  {
   "cell_type": "code",
   "execution_count": 4,
   "id": "b5baccd6",
   "metadata": {
    "ExecuteTime": {
     "end_time": "2024-09-07T02:51:19.831213Z",
     "start_time": "2024-09-07T02:51:19.829268Z"
    }
   },
   "outputs": [],
   "source": [
    "result_name = []"
   ]
  },
  {
   "cell_type": "markdown",
   "id": "2a054e27",
   "metadata": {},
   "source": [
    "## 整合两个打卡项目的名单"
   ]
  },
  {
   "cell_type": "code",
   "execution_count": 5,
   "id": "6e3f0347",
   "metadata": {
    "ExecuteTime": {
     "end_time": "2024-09-07T02:51:19.834620Z",
     "start_time": "2024-09-07T02:51:19.832215Z"
    }
   },
   "outputs": [],
   "source": [
    "def intergartion_name(data30, data70):\n",
    "    result_name = []\n",
    "    \n",
    "    for da30 in data30[\"圈子昵称\"]:\n",
    "        result_name.append(da30)\n",
    "        \n",
    "    for da70 in data70[\"圈子昵称\"]:\n",
    "        if da70 not in result_name:\n",
    "            result_name.append(da70)\n",
    "        \n",
    "    return result_name"
   ]
  },
  {
   "cell_type": "code",
   "execution_count": 6,
   "id": "7222106f",
   "metadata": {
    "ExecuteTime": {
     "end_time": "2024-09-07T02:51:19.843240Z",
     "start_time": "2024-09-07T02:51:19.836651Z"
    }
   },
   "outputs": [
    {
     "data": {
      "text/plain": [
       "453"
      ]
     },
     "execution_count": 6,
     "metadata": {},
     "output_type": "execute_result"
    }
   ],
   "source": [
    "a = intergartion_name(series30, series70)\n",
    "len(a)"
   ]
  },
  {
   "cell_type": "markdown",
   "id": "eeda298c",
   "metadata": {},
   "source": [
    "## 创建最终结果的DataFrame"
   ]
  },
  {
   "cell_type": "code",
   "execution_count": 7,
   "id": "db189949",
   "metadata": {
    "ExecuteTime": {
     "end_time": "2024-09-07T02:51:19.852771Z",
     "start_time": "2024-09-07T02:51:19.844250Z"
    }
   },
   "outputs": [
    {
     "data": {
      "text/html": [
       "<div>\n",
       "<style scoped>\n",
       "    .dataframe tbody tr th:only-of-type {\n",
       "        vertical-align: middle;\n",
       "    }\n",
       "\n",
       "    .dataframe tbody tr th {\n",
       "        vertical-align: top;\n",
       "    }\n",
       "\n",
       "    .dataframe thead th {\n",
       "        text-align: right;\n",
       "    }\n",
       "</style>\n",
       "<table border=\"1\" class=\"dataframe\">\n",
       "  <thead>\n",
       "    <tr style=\"text-align: right;\">\n",
       "      <th></th>\n",
       "      <th>0</th>\n",
       "    </tr>\n",
       "  </thead>\n",
       "  <tbody>\n",
       "    <tr>\n",
       "      <th>0</th>\n",
       "      <td>2022101166胡迪</td>\n",
       "    </tr>\n",
       "    <tr>\n",
       "      <th>1</th>\n",
       "      <td>2022100404张锦仪</td>\n",
       "    </tr>\n",
       "    <tr>\n",
       "      <th>2</th>\n",
       "      <td>2022102143邓紫珊</td>\n",
       "    </tr>\n",
       "    <tr>\n",
       "      <th>3</th>\n",
       "      <td>2022102925廖强</td>\n",
       "    </tr>\n",
       "    <tr>\n",
       "      <th>4</th>\n",
       "      <td>2022101482江心怡</td>\n",
       "    </tr>\n",
       "    <tr>\n",
       "      <th>...</th>\n",
       "      <td>...</td>\n",
       "    </tr>\n",
       "    <tr>\n",
       "      <th>448</th>\n",
       "      <td>2021101486 艾湘晴</td>\n",
       "    </tr>\n",
       "    <tr>\n",
       "      <th>449</th>\n",
       "      <td>2023103145杨雪</td>\n",
       "    </tr>\n",
       "    <tr>\n",
       "      <th>450</th>\n",
       "      <td>2022103988杨怡倩</td>\n",
       "    </tr>\n",
       "    <tr>\n",
       "      <th>451</th>\n",
       "      <td>2020103994王俊豪</td>\n",
       "    </tr>\n",
       "    <tr>\n",
       "      <th>452</th>\n",
       "      <td>香桃</td>\n",
       "    </tr>\n",
       "  </tbody>\n",
       "</table>\n",
       "<p>453 rows × 1 columns</p>\n",
       "</div>"
      ],
      "text/plain": [
       "                  0\n",
       "0      2022101166胡迪\n",
       "1     2022100404张锦仪\n",
       "2     2022102143邓紫珊\n",
       "3      2022102925廖强\n",
       "4     2022101482江心怡\n",
       "..              ...\n",
       "448  2021101486 艾湘晴\n",
       "449    2023103145杨雪\n",
       "450   2022103988杨怡倩\n",
       "451   2020103994王俊豪\n",
       "452              香桃\n",
       "\n",
       "[453 rows x 1 columns]"
      ]
     },
     "execution_count": 7,
     "metadata": {},
     "output_type": "execute_result"
    }
   ],
   "source": [
    "df = pd.DataFrame(a)\n",
    "df"
   ]
  },
  {
   "cell_type": "code",
   "execution_count": 8,
   "id": "45a162a3",
   "metadata": {
    "ExecuteTime": {
     "end_time": "2024-09-07T02:51:19.855753Z",
     "start_time": "2024-09-07T02:51:19.853775Z"
    }
   },
   "outputs": [],
   "source": [
    "# df.to_excel('output.xlsx', index=False) "
   ]
  },
  {
   "cell_type": "markdown",
   "id": "0c19dfb6",
   "metadata": {},
   "source": [
    "## 下面分别更改不同档次名单DataFrame的行index"
   ]
  },
  {
   "cell_type": "code",
   "execution_count": 9,
   "id": "406bd2e4",
   "metadata": {
    "ExecuteTime": {
     "end_time": "2024-09-07T02:51:19.862726Z",
     "start_time": "2024-09-07T02:51:19.856764Z"
    }
   },
   "outputs": [
    {
     "data": {
      "text/html": [
       "<div>\n",
       "<style scoped>\n",
       "    .dataframe tbody tr th:only-of-type {\n",
       "        vertical-align: middle;\n",
       "    }\n",
       "\n",
       "    .dataframe tbody tr th {\n",
       "        vertical-align: top;\n",
       "    }\n",
       "\n",
       "    .dataframe thead th {\n",
       "        text-align: right;\n",
       "    }\n",
       "</style>\n",
       "<table border=\"1\" class=\"dataframe\">\n",
       "  <thead>\n",
       "    <tr style=\"text-align: right;\">\n",
       "      <th></th>\n",
       "      <th>圈子昵称</th>\n",
       "      <th>打卡天数</th>\n",
       "    </tr>\n",
       "    <tr>\n",
       "      <th>圈子昵称</th>\n",
       "      <th></th>\n",
       "      <th></th>\n",
       "    </tr>\n",
       "  </thead>\n",
       "  <tbody>\n",
       "    <tr>\n",
       "      <th>2022101166胡迪</th>\n",
       "      <td>2022101166胡迪</td>\n",
       "      <td>7</td>\n",
       "    </tr>\n",
       "    <tr>\n",
       "      <th>2022100404张锦仪</th>\n",
       "      <td>2022100404张锦仪</td>\n",
       "      <td>7</td>\n",
       "    </tr>\n",
       "    <tr>\n",
       "      <th>2022102143邓紫珊</th>\n",
       "      <td>2022102143邓紫珊</td>\n",
       "      <td>7</td>\n",
       "    </tr>\n",
       "    <tr>\n",
       "      <th>2022102925廖强</th>\n",
       "      <td>2022102925廖强</td>\n",
       "      <td>7</td>\n",
       "    </tr>\n",
       "    <tr>\n",
       "      <th>2022101482江心怡</th>\n",
       "      <td>2022101482江心怡</td>\n",
       "      <td>7</td>\n",
       "    </tr>\n",
       "    <tr>\n",
       "      <th>...</th>\n",
       "      <td>...</td>\n",
       "      <td>...</td>\n",
       "    </tr>\n",
       "    <tr>\n",
       "      <th>2023102780杨丰忆</th>\n",
       "      <td>2023102780杨丰忆</td>\n",
       "      <td>1</td>\n",
       "    </tr>\n",
       "    <tr>\n",
       "      <th>2023104677张运</th>\n",
       "      <td>2023104677张运</td>\n",
       "      <td>1</td>\n",
       "    </tr>\n",
       "    <tr>\n",
       "      <th>2021103334彭雪云</th>\n",
       "      <td>2021103334彭雪云</td>\n",
       "      <td>1</td>\n",
       "    </tr>\n",
       "    <tr>\n",
       "      <th>2022151626陈湘雯</th>\n",
       "      <td>2022151626陈湘雯</td>\n",
       "      <td>1</td>\n",
       "    </tr>\n",
       "    <tr>\n",
       "      <th>2021103450 庞美盈</th>\n",
       "      <td>2021103450 庞美盈</td>\n",
       "      <td>1</td>\n",
       "    </tr>\n",
       "  </tbody>\n",
       "</table>\n",
       "<p>229 rows × 2 columns</p>\n",
       "</div>"
      ],
      "text/plain": [
       "                          圈子昵称  打卡天数\n",
       "圈子昵称                                \n",
       "2022101166胡迪      2022101166胡迪     7\n",
       "2022100404张锦仪    2022100404张锦仪     7\n",
       "2022102143邓紫珊    2022102143邓紫珊     7\n",
       "2022102925廖强      2022102925廖强     7\n",
       "2022101482江心怡    2022101482江心怡     7\n",
       "...                        ...   ...\n",
       "2023102780杨丰忆    2023102780杨丰忆     1\n",
       "2023104677张运      2023104677张运     1\n",
       "2021103334彭雪云    2021103334彭雪云     1\n",
       "2022151626陈湘雯    2022151626陈湘雯     1\n",
       "2021103450 庞美盈  2021103450 庞美盈     1\n",
       "\n",
       "[229 rows x 2 columns]"
      ]
     },
     "execution_count": 9,
     "metadata": {},
     "output_type": "execute_result"
    }
   ],
   "source": [
    "df30_reindexed = series30.set_index(pd.Index(series30[\"圈子昵称\"]))\n",
    "df30_reindexed"
   ]
  },
  {
   "cell_type": "code",
   "execution_count": 10,
   "id": "09e81c54",
   "metadata": {
    "ExecuteTime": {
     "end_time": "2024-09-07T02:51:19.869815Z",
     "start_time": "2024-09-07T02:51:19.864173Z"
    }
   },
   "outputs": [
    {
     "data": {
      "text/html": [
       "<div>\n",
       "<style scoped>\n",
       "    .dataframe tbody tr th:only-of-type {\n",
       "        vertical-align: middle;\n",
       "    }\n",
       "\n",
       "    .dataframe tbody tr th {\n",
       "        vertical-align: top;\n",
       "    }\n",
       "\n",
       "    .dataframe thead th {\n",
       "        text-align: right;\n",
       "    }\n",
       "</style>\n",
       "<table border=\"1\" class=\"dataframe\">\n",
       "  <thead>\n",
       "    <tr style=\"text-align: right;\">\n",
       "      <th></th>\n",
       "      <th>圈子昵称</th>\n",
       "      <th>打卡天数</th>\n",
       "    </tr>\n",
       "    <tr>\n",
       "      <th>圈子昵称</th>\n",
       "      <th></th>\n",
       "      <th></th>\n",
       "    </tr>\n",
       "  </thead>\n",
       "  <tbody>\n",
       "    <tr>\n",
       "      <th>2023102750林可欣</th>\n",
       "      <td>2023102750林可欣</td>\n",
       "      <td>7</td>\n",
       "    </tr>\n",
       "    <tr>\n",
       "      <th>2021100594彭驿竣</th>\n",
       "      <td>2021100594彭驿竣</td>\n",
       "      <td>7</td>\n",
       "    </tr>\n",
       "    <tr>\n",
       "      <th>2021103034梁卓贤</th>\n",
       "      <td>2021103034梁卓贤</td>\n",
       "      <td>7</td>\n",
       "    </tr>\n",
       "    <tr>\n",
       "      <th>2023104148曹冰芝</th>\n",
       "      <td>2023104148曹冰芝</td>\n",
       "      <td>7</td>\n",
       "    </tr>\n",
       "    <tr>\n",
       "      <th>2023100600吴心悦</th>\n",
       "      <td>2023100600吴心悦</td>\n",
       "      <td>7</td>\n",
       "    </tr>\n",
       "    <tr>\n",
       "      <th>...</th>\n",
       "      <td>...</td>\n",
       "      <td>...</td>\n",
       "    </tr>\n",
       "    <tr>\n",
       "      <th>2023101913陈怡欣</th>\n",
       "      <td>2023101913陈怡欣</td>\n",
       "      <td>1</td>\n",
       "    </tr>\n",
       "    <tr>\n",
       "      <th>2022101128许诺</th>\n",
       "      <td>2022101128许诺</td>\n",
       "      <td>1</td>\n",
       "    </tr>\n",
       "    <tr>\n",
       "      <th>2022103279郑佳熙</th>\n",
       "      <td>2022103279郑佳熙</td>\n",
       "      <td>1</td>\n",
       "    </tr>\n",
       "    <tr>\n",
       "      <th>2023104677张运</th>\n",
       "      <td>2023104677张运</td>\n",
       "      <td>1</td>\n",
       "    </tr>\n",
       "    <tr>\n",
       "      <th>2021103009吴茕</th>\n",
       "      <td>2021103009吴茕</td>\n",
       "      <td>1</td>\n",
       "    </tr>\n",
       "  </tbody>\n",
       "</table>\n",
       "<p>328 rows × 2 columns</p>\n",
       "</div>"
      ],
      "text/plain": [
       "                        圈子昵称  打卡天数\n",
       "圈子昵称                              \n",
       "2023102750林可欣  2023102750林可欣     7\n",
       "2021100594彭驿竣  2021100594彭驿竣     7\n",
       "2021103034梁卓贤  2021103034梁卓贤     7\n",
       "2023104148曹冰芝  2023104148曹冰芝     7\n",
       "2023100600吴心悦  2023100600吴心悦     7\n",
       "...                      ...   ...\n",
       "2023101913陈怡欣  2023101913陈怡欣     1\n",
       "2022101128许诺    2022101128许诺     1\n",
       "2022103279郑佳熙  2022103279郑佳熙     1\n",
       "2023104677张运    2023104677张运     1\n",
       "2021103009吴茕    2021103009吴茕     1\n",
       "\n",
       "[328 rows x 2 columns]"
      ]
     },
     "execution_count": 10,
     "metadata": {},
     "output_type": "execute_result"
    }
   ],
   "source": [
    "df70_reindexed = series70.set_index(pd.Index(series70[\"圈子昵称\"]))\n",
    "df70_reindexed"
   ]
  },
  {
   "cell_type": "code",
   "execution_count": 11,
   "id": "58146c19",
   "metadata": {
    "ExecuteTime": {
     "end_time": "2024-09-07T02:51:19.875740Z",
     "start_time": "2024-09-07T02:51:19.870819Z"
    }
   },
   "outputs": [
    {
     "data": {
      "text/html": [
       "<div>\n",
       "<style scoped>\n",
       "    .dataframe tbody tr th:only-of-type {\n",
       "        vertical-align: middle;\n",
       "    }\n",
       "\n",
       "    .dataframe tbody tr th {\n",
       "        vertical-align: top;\n",
       "    }\n",
       "\n",
       "    .dataframe thead th {\n",
       "        text-align: right;\n",
       "    }\n",
       "</style>\n",
       "<table border=\"1\" class=\"dataframe\">\n",
       "  <thead>\n",
       "    <tr style=\"text-align: right;\">\n",
       "      <th></th>\n",
       "      <th>0</th>\n",
       "    </tr>\n",
       "    <tr>\n",
       "      <th>0</th>\n",
       "      <th></th>\n",
       "    </tr>\n",
       "  </thead>\n",
       "  <tbody>\n",
       "    <tr>\n",
       "      <th>2022101166胡迪</th>\n",
       "      <td>2022101166胡迪</td>\n",
       "    </tr>\n",
       "    <tr>\n",
       "      <th>2022100404张锦仪</th>\n",
       "      <td>2022100404张锦仪</td>\n",
       "    </tr>\n",
       "    <tr>\n",
       "      <th>2022102143邓紫珊</th>\n",
       "      <td>2022102143邓紫珊</td>\n",
       "    </tr>\n",
       "    <tr>\n",
       "      <th>2022102925廖强</th>\n",
       "      <td>2022102925廖强</td>\n",
       "    </tr>\n",
       "    <tr>\n",
       "      <th>2022101482江心怡</th>\n",
       "      <td>2022101482江心怡</td>\n",
       "    </tr>\n",
       "    <tr>\n",
       "      <th>...</th>\n",
       "      <td>...</td>\n",
       "    </tr>\n",
       "    <tr>\n",
       "      <th>2021101486 艾湘晴</th>\n",
       "      <td>2021101486 艾湘晴</td>\n",
       "    </tr>\n",
       "    <tr>\n",
       "      <th>2023103145杨雪</th>\n",
       "      <td>2023103145杨雪</td>\n",
       "    </tr>\n",
       "    <tr>\n",
       "      <th>2022103988杨怡倩</th>\n",
       "      <td>2022103988杨怡倩</td>\n",
       "    </tr>\n",
       "    <tr>\n",
       "      <th>2020103994王俊豪</th>\n",
       "      <td>2020103994王俊豪</td>\n",
       "    </tr>\n",
       "    <tr>\n",
       "      <th>香桃</th>\n",
       "      <td>香桃</td>\n",
       "    </tr>\n",
       "  </tbody>\n",
       "</table>\n",
       "<p>453 rows × 1 columns</p>\n",
       "</div>"
      ],
      "text/plain": [
       "                             0\n",
       "0                             \n",
       "2022101166胡迪      2022101166胡迪\n",
       "2022100404张锦仪    2022100404张锦仪\n",
       "2022102143邓紫珊    2022102143邓紫珊\n",
       "2022102925廖强      2022102925廖强\n",
       "2022101482江心怡    2022101482江心怡\n",
       "...                        ...\n",
       "2021101486 艾湘晴  2021101486 艾湘晴\n",
       "2023103145杨雪      2023103145杨雪\n",
       "2022103988杨怡倩    2022103988杨怡倩\n",
       "2020103994王俊豪    2020103994王俊豪\n",
       "香桃                          香桃\n",
       "\n",
       "[453 rows x 1 columns]"
      ]
     },
     "execution_count": 11,
     "metadata": {},
     "output_type": "execute_result"
    }
   ],
   "source": [
    "df_reindexed = df.set_index(pd.Index(df[0]))\n",
    "df_reindexed"
   ]
  },
  {
   "cell_type": "markdown",
   "id": "adbcce54",
   "metadata": {},
   "source": [
    "## 创建两个函数，分别计算每个人的打卡天数以及积分"
   ]
  },
  {
   "cell_type": "markdown",
   "id": "91a51cab",
   "metadata": {},
   "source": [
    "### 计算打卡天数函数"
   ]
  },
  {
   "cell_type": "code",
   "execution_count": 12,
   "id": "057e85f9",
   "metadata": {
    "ExecuteTime": {
     "end_time": "2024-09-07T02:51:19.879691Z",
     "start_time": "2024-09-07T02:51:19.875740Z"
    }
   },
   "outputs": [],
   "source": [
    "def integrate_days(df30, df70, df):\n",
    "    days = []\n",
    "    scores = []\n",
    "    \n",
    "    for df in df[0]:\n",
    "        a = 0\n",
    "        b = 0\n",
    "        for data30 in df30[\"圈子昵称\"]:\n",
    "            if data30 == df:\n",
    "                a = df30.loc[data30, \"打卡天数\"]\n",
    "                b = df30.loc[data30, \"打卡天数\"]\n",
    "                \n",
    "        for data70 in df70[\"圈子昵称\"]:\n",
    "            if data70 == df:\n",
    "                a = a + df70.loc[data70, \"打卡天数\"]\n",
    "                b = b + 2 * df70.loc[data70, \"打卡天数\"]\n",
    "        days.append(a)\n",
    "        scores.append(b)\n",
    "            \n",
    "            \n",
    "#        for data70 in df70[\"圈子昵称\"]:\n",
    "#            if data70 == df:\n",
    "#                a = a + df70.loc[data70, \"打卡天数\"]\n",
    "                \n",
    "#        days.append(a)\n",
    "    \n",
    "    return days"
   ]
  },
  {
   "cell_type": "markdown",
   "id": "b29e9522",
   "metadata": {},
   "source": [
    "### 计算积分的函数"
   ]
  },
  {
   "cell_type": "code",
   "execution_count": 13,
   "id": "ba14785c",
   "metadata": {
    "ExecuteTime": {
     "end_time": "2024-09-07T02:51:19.884540Z",
     "start_time": "2024-09-07T02:51:19.880697Z"
    }
   },
   "outputs": [],
   "source": [
    "def integrate_scores(df30, df70, df):\n",
    "    days = []\n",
    "    scores = []\n",
    "    \n",
    "    for df in df[0]:\n",
    "        a = 0\n",
    "        b = 0\n",
    "        for data30 in df30[\"圈子昵称\"]:\n",
    "            if data30 == df:\n",
    "                a = df30.loc[data30, \"打卡天数\"]\n",
    "                b = df30.loc[data30, \"打卡天数\"]\n",
    "                \n",
    "        for data70 in df70[\"圈子昵称\"]:\n",
    "            if data70 == df:\n",
    "                a = a + df70.loc[data70, \"打卡天数\"]\n",
    "                b = b + 2 * df70.loc[data70, \"打卡天数\"]\n",
    "        days.append(a)\n",
    "        scores.append(b)\n",
    "            \n",
    "            \n",
    "#        for data70 in df70[\"圈子昵称\"]:\n",
    "#            if data70 == df:\n",
    "#                a = a + df70.loc[data70, \"打卡天数\"]\n",
    "                \n",
    "#        days.append(a)\n",
    "    \n",
    "    return scores"
   ]
  },
  {
   "cell_type": "markdown",
   "id": "e35aad04",
   "metadata": {},
   "source": [
    "## 将积分以列表形式导出"
   ]
  },
  {
   "cell_type": "code",
   "execution_count": 14,
   "id": "0800f05e",
   "metadata": {
    "ExecuteTime": {
     "end_time": "2024-09-07T02:51:19.922460Z",
     "start_time": "2024-09-07T02:51:19.885543Z"
    }
   },
   "outputs": [],
   "source": [
    "days = integrate_days(df30_reindexed, df70_reindexed, df_reindexed)\n",
    "scores = integrate_scores(df30_reindexed, df70_reindexed, df_reindexed)"
   ]
  },
  {
   "cell_type": "code",
   "execution_count": 15,
   "id": "ff65dc73",
   "metadata": {
    "ExecuteTime": {
     "end_time": "2024-09-07T02:51:19.926113Z",
     "start_time": "2024-09-07T02:51:19.923461Z"
    }
   },
   "outputs": [
    {
     "data": {
      "text/plain": [
       "453"
      ]
     },
     "execution_count": 15,
     "metadata": {},
     "output_type": "execute_result"
    }
   ],
   "source": [
    "len(days)"
   ]
  },
  {
   "cell_type": "code",
   "execution_count": 16,
   "id": "b6a27540",
   "metadata": {
    "ExecuteTime": {
     "end_time": "2024-09-07T02:51:19.929751Z",
     "start_time": "2024-09-07T02:51:19.926618Z"
    }
   },
   "outputs": [
    {
     "data": {
      "text/plain": [
       "453"
      ]
     },
     "execution_count": 16,
     "metadata": {},
     "output_type": "execute_result"
    }
   ],
   "source": [
    "len(scores)"
   ]
  },
  {
   "cell_type": "markdown",
   "id": "e627de80",
   "metadata": {},
   "source": [
    "## 在最终结果中的DataFrame中创建两个新的行，然后将打卡天数和积分导入进去"
   ]
  },
  {
   "cell_type": "code",
   "execution_count": 17,
   "id": "b94bfb1f",
   "metadata": {
    "ExecuteTime": {
     "end_time": "2024-09-07T02:51:19.937152Z",
     "start_time": "2024-09-07T02:51:19.930754Z"
    }
   },
   "outputs": [],
   "source": [
    "df[\"打卡天数\"] = days\n",
    "df[\"积分\"] = scores"
   ]
  },
  {
   "cell_type": "code",
   "execution_count": 18,
   "id": "51d8207a",
   "metadata": {
    "ExecuteTime": {
     "end_time": "2024-09-07T02:51:19.941154Z",
     "start_time": "2024-09-07T02:51:19.938161Z"
    }
   },
   "outputs": [],
   "source": [
    "# df"
   ]
  },
  {
   "cell_type": "markdown",
   "id": "bb808fe9",
   "metadata": {},
   "source": [
    "## 将最终结果导出到excel"
   ]
  },
  {
   "cell_type": "code",
   "execution_count": 19,
   "id": "a3784469",
   "metadata": {
    "ExecuteTime": {
     "end_time": "2024-09-07T02:51:19.966464Z",
     "start_time": "2024-09-07T02:51:19.942162Z"
    }
   },
   "outputs": [],
   "source": [
    "df.to_excel('output111.xlsx', index=False) "
   ]
  },
  {
   "cell_type": "code",
   "execution_count": null,
   "id": "66eabc38",
   "metadata": {},
   "outputs": [],
   "source": []
  }
 ],
 "metadata": {
  "kernelspec": {
   "display_name": "Python 3 (ipykernel)",
   "language": "python",
   "name": "python3"
  },
  "language_info": {
   "codemirror_mode": {
    "name": "ipython",
    "version": 3
   },
   "file_extension": ".py",
   "mimetype": "text/x-python",
   "name": "python",
   "nbconvert_exporter": "python",
   "pygments_lexer": "ipython3",
   "version": "3.12.0"
  },
  "nbTranslate": {
   "displayLangs": [
    "*"
   ],
   "hotkey": "alt-t",
   "langInMainMenu": true,
   "sourceLang": "en",
   "targetLang": "fr",
   "useGoogleTranslate": true
  }
 },
 "nbformat": 4,
 "nbformat_minor": 5
}
