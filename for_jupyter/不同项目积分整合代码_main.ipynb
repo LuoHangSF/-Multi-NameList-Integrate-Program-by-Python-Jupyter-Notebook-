{
 "cells": [
  {
   "cell_type": "markdown",
   "id": "97a16447",
   "metadata": {},
   "source": [
    "# 全部打卡整合脚本\n"
   ]
  },
  {
   "cell_type": "markdown",
   "id": "4494fe3c",
   "metadata": {},
   "source": [
    "## 导入需要的Python库"
   ]
  },
  {
   "cell_type": "code",
   "execution_count": 1,
   "id": "04ba32d3",
   "metadata": {
    "ExecuteTime": {
     "end_time": "2024-09-05T14:39:49.124575Z",
     "start_time": "2024-09-05T14:39:48.668350Z"
    }
   },
   "outputs": [],
   "source": [
    "# 必须导入，不导入没办法运行\n",
    "import pandas as pd\n",
    "import numpy as np\n",
    "import os"
   ]
  },
  {
   "cell_type": "markdown",
   "id": "edf5a4e7",
   "metadata": {},
   "source": [
    "## 载入所有名单(在此处修改项目数量以及名字)"
   ]
  },
  {
   "cell_type": "code",
   "execution_count": 2,
   "id": "1465af67",
   "metadata": {
    "ExecuteTime": {
     "end_time": "2024-09-05T14:39:49.130078Z",
     "start_time": "2024-09-05T14:39:49.127059Z"
    }
   },
   "outputs": [],
   "source": [
    "# 可以修改，有多少项目就添加多少项目，项目名称需要与excel文件 除去后缀的 名称一致\n",
    "# 项目名称要加英文单引号，不同项目之间要用逗号隔开\n",
    "event_list = ['练字', '单词', '跑步', '光盘', '记账'] \n",
    "\n",
    "# excel文件的格式（默认为xlsx，如果是csv的话就改成.csv）\n",
    "suffix = \".xlsx\""
   ]
  },
  {
   "cell_type": "markdown",
   "id": "e259639c",
   "metadata": {},
   "source": [
    "## 读取相应打卡数据"
   ]
  },
  {
   "cell_type": "code",
   "execution_count": 3,
   "id": "330188e8",
   "metadata": {
    "ExecuteTime": {
     "end_time": "2024-09-05T14:39:49.406769Z",
     "start_time": "2024-09-05T14:39:49.132547Z"
    }
   },
   "outputs": [],
   "source": [
    "# 初始化一个字典，用于根据上面列表提供的项目读取对应的项目打卡分数数据\n",
    "data_dict = {}\n",
    "# 分别导入每个项目的excel数据\n",
    "\n",
    "for item in event_list:\n",
    "    item_name = item + suffix\n",
    "    data_dict[item] = pd.read_excel(item_name)\n",
    "\n",
    "\n"
   ]
  },
  {
   "cell_type": "markdown",
   "id": "629d325e",
   "metadata": {},
   "source": [
    "## 创建整合全部打卡项目的名单的函数"
   ]
  },
  {
   "cell_type": "code",
   "execution_count": 4,
   "id": "73bc7041",
   "metadata": {
    "ExecuteTime": {
     "end_time": "2024-09-05T14:39:49.411162Z",
     "start_time": "2024-09-05T14:39:49.407773Z"
    }
   },
   "outputs": [],
   "source": [
    "def sum_name(dict):\n",
    "    result_name = []\n",
    "    num = 1\n",
    "    for key in dict: # 遍历字典 data_dict 中的每个键\n",
    "        events = dict[key] # 获取当前键对应的值（即数据帧），并将其赋值给 df\n",
    "        if num == 1:\n",
    "            for name in events[\"圈子昵称\"]:\n",
    "                result_name.append(name)\n",
    "                \n",
    "        else:\n",
    "            for name in events[\"圈子昵称\"]: # 遍历名单\n",
    "                if name not in result_name:  # 判断：如果最终名单中没有这个人，就将这个人导入最终名单\n",
    "                    result_name.append(name)\n",
    "                \n",
    "        num += 1\n",
    "        \n",
    "    return result_name"
   ]
  },
  {
   "cell_type": "markdown",
   "id": "8c5072cd",
   "metadata": {},
   "source": [
    "## 运行该函数，获得打卡名单总表"
   ]
  },
  {
   "cell_type": "code",
   "execution_count": 5,
   "id": "fea4e61e",
   "metadata": {
    "ExecuteTime": {
     "end_time": "2024-09-05T14:39:49.418774Z",
     "start_time": "2024-09-05T14:39:49.411162Z"
    }
   },
   "outputs": [
    {
     "data": {
      "text/plain": [
       "19"
      ]
     },
     "execution_count": 5,
     "metadata": {},
     "output_type": "execute_result"
    }
   ],
   "source": [
    "a = sum_name(data_dict) # 调用函数\n",
    "len(a)"
   ]
  },
  {
   "cell_type": "markdown",
   "id": "85049a0f",
   "metadata": {},
   "source": [
    "## 创建最终结果的DataFrame"
   ]
  },
  {
   "cell_type": "code",
   "execution_count": 6,
   "id": "76206895",
   "metadata": {
    "ExecuteTime": {
     "end_time": "2024-09-05T14:39:49.426952Z",
     "start_time": "2024-09-05T14:39:49.419779Z"
    }
   },
   "outputs": [
    {
     "data": {
      "text/html": [
       "<div>\n",
       "<style scoped>\n",
       "    .dataframe tbody tr th:only-of-type {\n",
       "        vertical-align: middle;\n",
       "    }\n",
       "\n",
       "    .dataframe tbody tr th {\n",
       "        vertical-align: top;\n",
       "    }\n",
       "\n",
       "    .dataframe thead th {\n",
       "        text-align: right;\n",
       "    }\n",
       "</style>\n",
       "<table border=\"1\" class=\"dataframe\">\n",
       "  <thead>\n",
       "    <tr style=\"text-align: right;\">\n",
       "      <th></th>\n",
       "      <th>0</th>\n",
       "    </tr>\n",
       "  </thead>\n",
       "  <tbody>\n",
       "    <tr>\n",
       "      <th>0</th>\n",
       "      <td>1034111911兰斯</td>\n",
       "    </tr>\n",
       "    <tr>\n",
       "      <th>1</th>\n",
       "      <td>1024533380孙笑川</td>\n",
       "    </tr>\n",
       "    <tr>\n",
       "      <th>2</th>\n",
       "      <td>1044453937王八</td>\n",
       "    </tr>\n",
       "    <tr>\n",
       "      <th>3</th>\n",
       "      <td>1034343407王雷</td>\n",
       "    </tr>\n",
       "    <tr>\n",
       "      <th>4</th>\n",
       "      <td>1024191981张全蛋</td>\n",
       "    </tr>\n",
       "    <tr>\n",
       "      <th>5</th>\n",
       "      <td>1024102265陈楞宇</td>\n",
       "    </tr>\n",
       "    <tr>\n",
       "      <th>6</th>\n",
       "      <td>1034104114王晓为</td>\n",
       "    </tr>\n",
       "    <tr>\n",
       "      <th>7</th>\n",
       "      <td>1024100594彭泽军</td>\n",
       "    </tr>\n",
       "    <tr>\n",
       "      <th>8</th>\n",
       "      <td>1034103034梁左先</td>\n",
       "    </tr>\n",
       "    <tr>\n",
       "      <th>9</th>\n",
       "      <td>1044114514李田所</td>\n",
       "    </tr>\n",
       "    <tr>\n",
       "      <th>10</th>\n",
       "      <td>1024132849林林</td>\n",
       "    </tr>\n",
       "    <tr>\n",
       "      <th>11</th>\n",
       "      <td>1044100120梁凌薇</td>\n",
       "    </tr>\n",
       "    <tr>\n",
       "      <th>12</th>\n",
       "      <td>1034722522罗小黑</td>\n",
       "    </tr>\n",
       "    <tr>\n",
       "      <th>13</th>\n",
       "      <td>1044453125妃咲</td>\n",
       "    </tr>\n",
       "    <tr>\n",
       "      <th>14</th>\n",
       "      <td>1054321380圣园未花</td>\n",
       "    </tr>\n",
       "    <tr>\n",
       "      <th>15</th>\n",
       "      <td>1024154424邓家叶</td>\n",
       "    </tr>\n",
       "    <tr>\n",
       "      <th>16</th>\n",
       "      <td>1034102534彭学运</td>\n",
       "    </tr>\n",
       "    <tr>\n",
       "      <th>17</th>\n",
       "      <td>1034145258高思远</td>\n",
       "    </tr>\n",
       "    <tr>\n",
       "      <th>18</th>\n",
       "      <td>1024102730陈于轩</td>\n",
       "    </tr>\n",
       "  </tbody>\n",
       "</table>\n",
       "</div>"
      ],
      "text/plain": [
       "                 0\n",
       "0     1034111911兰斯\n",
       "1    1024533380孙笑川\n",
       "2     1044453937王八\n",
       "3     1034343407王雷\n",
       "4    1024191981张全蛋\n",
       "5    1024102265陈楞宇\n",
       "6    1034104114王晓为\n",
       "7    1024100594彭泽军\n",
       "8    1034103034梁左先\n",
       "9    1044114514李田所\n",
       "10    1024132849林林\n",
       "11   1044100120梁凌薇\n",
       "12   1034722522罗小黑\n",
       "13    1044453125妃咲\n",
       "14  1054321380圣园未花\n",
       "15   1024154424邓家叶\n",
       "16   1034102534彭学运\n",
       "17   1034145258高思远\n",
       "18   1024102730陈于轩"
      ]
     },
     "execution_count": 6,
     "metadata": {},
     "output_type": "execute_result"
    }
   ],
   "source": [
    "final_df = pd.DataFrame(a) # 用最终名单列表的创建一个新的DataFrame\n",
    "final_df"
   ]
  },
  {
   "cell_type": "markdown",
   "id": "e1c4f91f",
   "metadata": {},
   "source": [
    "## 下面分别更改不同档次名单DataFrame的行index"
   ]
  },
  {
   "cell_type": "code",
   "execution_count": 8,
   "id": "cb11fba7",
   "metadata": {
    "ExecuteTime": {
     "end_time": "2024-09-05T14:39:49.434021Z",
     "start_time": "2024-09-05T14:39:49.430092Z"
    }
   },
   "outputs": [],
   "source": [
    "data_dict_reindexed = {}"
   ]
  },
  {
   "cell_type": "code",
   "execution_count": 9,
   "id": "c610cbd8",
   "metadata": {
    "ExecuteTime": {
     "end_time": "2024-09-05T14:39:49.439002Z",
     "start_time": "2024-09-05T14:39:49.435214Z"
    }
   },
   "outputs": [],
   "source": [
    "def reindex(dict):\n",
    "    rein = \"_reindexed\"\n",
    "    for key in dict:\n",
    "        event_reindexed = key + rein\n",
    "        tmp_df = dict[key]\n",
    "        tmp_df = tmp_df.set_index(pd.Index(tmp_df[\"圈子昵称\"]))\n",
    "        data_dict_reindexed[event_reindexed] = tmp_df"
   ]
  },
  {
   "cell_type": "code",
   "execution_count": 10,
   "id": "6d87dcfb",
   "metadata": {
    "ExecuteTime": {
     "end_time": "2024-09-05T14:39:49.445545Z",
     "start_time": "2024-09-05T14:39:49.440216Z"
    }
   },
   "outputs": [
    {
     "data": {
      "text/html": [
       "<div>\n",
       "<style scoped>\n",
       "    .dataframe tbody tr th:only-of-type {\n",
       "        vertical-align: middle;\n",
       "    }\n",
       "\n",
       "    .dataframe tbody tr th {\n",
       "        vertical-align: top;\n",
       "    }\n",
       "\n",
       "    .dataframe thead th {\n",
       "        text-align: right;\n",
       "    }\n",
       "</style>\n",
       "<table border=\"1\" class=\"dataframe\">\n",
       "  <thead>\n",
       "    <tr style=\"text-align: right;\">\n",
       "      <th></th>\n",
       "      <th>圈子昵称</th>\n",
       "      <th>积分</th>\n",
       "    </tr>\n",
       "    <tr>\n",
       "      <th>圈子昵称</th>\n",
       "      <th></th>\n",
       "      <th></th>\n",
       "    </tr>\n",
       "  </thead>\n",
       "  <tbody>\n",
       "    <tr>\n",
       "      <th>1024132849林林</th>\n",
       "      <td>1024132849林林</td>\n",
       "      <td>14</td>\n",
       "    </tr>\n",
       "    <tr>\n",
       "      <th>1044100120梁凌薇</th>\n",
       "      <td>1044100120梁凌薇</td>\n",
       "      <td>14</td>\n",
       "    </tr>\n",
       "    <tr>\n",
       "      <th>1034722522罗小黑</th>\n",
       "      <td>1034722522罗小黑</td>\n",
       "      <td>12</td>\n",
       "    </tr>\n",
       "    <tr>\n",
       "      <th>1044453125妃咲</th>\n",
       "      <td>1044453125妃咲</td>\n",
       "      <td>11</td>\n",
       "    </tr>\n",
       "    <tr>\n",
       "      <th>1054321380圣园未花</th>\n",
       "      <td>1054321380圣园未花</td>\n",
       "      <td>0</td>\n",
       "    </tr>\n",
       "  </tbody>\n",
       "</table>\n",
       "</div>"
      ],
      "text/plain": [
       "                          圈子昵称  积分\n",
       "圈子昵称                              \n",
       "1024132849林林      1024132849林林  14\n",
       "1044100120梁凌薇    1044100120梁凌薇  14\n",
       "1034722522罗小黑    1034722522罗小黑  12\n",
       "1044453125妃咲      1044453125妃咲  11\n",
       "1054321380圣园未花  1054321380圣园未花   0"
      ]
     },
     "execution_count": 10,
     "metadata": {},
     "output_type": "execute_result"
    }
   ],
   "source": [
    "reindex(data_dict)\n",
    "data_dict_reindexed[\"跑步_reindexed\"]"
   ]
  },
  {
   "cell_type": "code",
   "execution_count": 11,
   "id": "78228969",
   "metadata": {
    "ExecuteTime": {
     "end_time": "2024-09-05T14:39:49.451545Z",
     "start_time": "2024-09-05T14:39:49.446768Z"
    }
   },
   "outputs": [
    {
     "data": {
      "text/html": [
       "<div>\n",
       "<style scoped>\n",
       "    .dataframe tbody tr th:only-of-type {\n",
       "        vertical-align: middle;\n",
       "    }\n",
       "\n",
       "    .dataframe tbody tr th {\n",
       "        vertical-align: top;\n",
       "    }\n",
       "\n",
       "    .dataframe thead th {\n",
       "        text-align: right;\n",
       "    }\n",
       "</style>\n",
       "<table border=\"1\" class=\"dataframe\">\n",
       "  <thead>\n",
       "    <tr style=\"text-align: right;\">\n",
       "      <th></th>\n",
       "      <th>0</th>\n",
       "    </tr>\n",
       "    <tr>\n",
       "      <th>0</th>\n",
       "      <th></th>\n",
       "    </tr>\n",
       "  </thead>\n",
       "  <tbody>\n",
       "    <tr>\n",
       "      <th>1034111911兰斯</th>\n",
       "      <td>1034111911兰斯</td>\n",
       "    </tr>\n",
       "    <tr>\n",
       "      <th>1024533380孙笑川</th>\n",
       "      <td>1024533380孙笑川</td>\n",
       "    </tr>\n",
       "    <tr>\n",
       "      <th>1044453937王八</th>\n",
       "      <td>1044453937王八</td>\n",
       "    </tr>\n",
       "    <tr>\n",
       "      <th>1034343407王雷</th>\n",
       "      <td>1034343407王雷</td>\n",
       "    </tr>\n",
       "    <tr>\n",
       "      <th>1024191981张全蛋</th>\n",
       "      <td>1024191981张全蛋</td>\n",
       "    </tr>\n",
       "    <tr>\n",
       "      <th>1024102265陈楞宇</th>\n",
       "      <td>1024102265陈楞宇</td>\n",
       "    </tr>\n",
       "    <tr>\n",
       "      <th>1034104114王晓为</th>\n",
       "      <td>1034104114王晓为</td>\n",
       "    </tr>\n",
       "    <tr>\n",
       "      <th>1024100594彭泽军</th>\n",
       "      <td>1024100594彭泽军</td>\n",
       "    </tr>\n",
       "    <tr>\n",
       "      <th>1034103034梁左先</th>\n",
       "      <td>1034103034梁左先</td>\n",
       "    </tr>\n",
       "    <tr>\n",
       "      <th>1044114514李田所</th>\n",
       "      <td>1044114514李田所</td>\n",
       "    </tr>\n",
       "    <tr>\n",
       "      <th>1024132849林林</th>\n",
       "      <td>1024132849林林</td>\n",
       "    </tr>\n",
       "    <tr>\n",
       "      <th>1044100120梁凌薇</th>\n",
       "      <td>1044100120梁凌薇</td>\n",
       "    </tr>\n",
       "    <tr>\n",
       "      <th>1034722522罗小黑</th>\n",
       "      <td>1034722522罗小黑</td>\n",
       "    </tr>\n",
       "    <tr>\n",
       "      <th>1044453125妃咲</th>\n",
       "      <td>1044453125妃咲</td>\n",
       "    </tr>\n",
       "    <tr>\n",
       "      <th>1054321380圣园未花</th>\n",
       "      <td>1054321380圣园未花</td>\n",
       "    </tr>\n",
       "    <tr>\n",
       "      <th>1024154424邓家叶</th>\n",
       "      <td>1024154424邓家叶</td>\n",
       "    </tr>\n",
       "    <tr>\n",
       "      <th>1034102534彭学运</th>\n",
       "      <td>1034102534彭学运</td>\n",
       "    </tr>\n",
       "    <tr>\n",
       "      <th>1034145258高思远</th>\n",
       "      <td>1034145258高思远</td>\n",
       "    </tr>\n",
       "    <tr>\n",
       "      <th>1024102730陈于轩</th>\n",
       "      <td>1024102730陈于轩</td>\n",
       "    </tr>\n",
       "  </tbody>\n",
       "</table>\n",
       "</div>"
      ],
      "text/plain": [
       "                             0\n",
       "0                             \n",
       "1034111911兰斯      1034111911兰斯\n",
       "1024533380孙笑川    1024533380孙笑川\n",
       "1044453937王八      1044453937王八\n",
       "1034343407王雷      1034343407王雷\n",
       "1024191981张全蛋    1024191981张全蛋\n",
       "1024102265陈楞宇    1024102265陈楞宇\n",
       "1034104114王晓为    1034104114王晓为\n",
       "1024100594彭泽军    1024100594彭泽军\n",
       "1034103034梁左先    1034103034梁左先\n",
       "1044114514李田所    1044114514李田所\n",
       "1024132849林林      1024132849林林\n",
       "1044100120梁凌薇    1044100120梁凌薇\n",
       "1034722522罗小黑    1034722522罗小黑\n",
       "1044453125妃咲      1044453125妃咲\n",
       "1054321380圣园未花  1054321380圣园未花\n",
       "1024154424邓家叶    1024154424邓家叶\n",
       "1034102534彭学运    1034102534彭学运\n",
       "1034145258高思远    1034145258高思远\n",
       "1024102730陈于轩    1024102730陈于轩"
      ]
     },
     "execution_count": 11,
     "metadata": {},
     "output_type": "execute_result"
    }
   ],
   "source": [
    "final_df_reindexed = final_df.set_index(pd.Index(final_df[0]))\n",
    "\n",
    "final_df_reindexed"
   ]
  },
  {
   "cell_type": "markdown",
   "id": "38674704",
   "metadata": {},
   "source": [
    "## 创建五个函数，分别计算每个人的打卡天数以及积分"
   ]
  },
  {
   "cell_type": "markdown",
   "id": "f11acee4",
   "metadata": {},
   "source": [
    "### 给参与者统计每一个项目获得的分数的函数"
   ]
  },
  {
   "cell_type": "code",
   "execution_count": 12,
   "id": "9a741e87",
   "metadata": {
    "ExecuteTime": {
     "end_time": "2024-09-05T14:39:49.455659Z",
     "start_time": "2024-09-05T14:39:49.452048Z"
    },
    "code_folding": []
   },
   "outputs": [],
   "source": [
    "def 单独项目赋分(项目, df):\n",
    "    积分 = [] # 创建一个新的积分空列表\n",
    "    # scores = []\n",
    "    \n",
    "    for df1 in df[0]: # 按顺序遍历每一个名字\n",
    "        a = 0\n",
    "        # b = 0\n",
    "        for 人员 in 项目[\"圈子昵称\"]: # 遍历圈子中的每一个名字\n",
    "            if 人员 == df1: # 最终名单得里的名字在圈子的名单中，就将圈子中的积分赋给a\n",
    "                a = 项目.loc[人员, \"积分\"]\n",
    "                \n",
    "        积分.append(a) # 按遍历的顺序将a加到积分的列表中\n",
    "        \n",
    "    return 积分 # 返回列表"
   ]
  },
  {
   "cell_type": "markdown",
   "id": "7772903e",
   "metadata": {},
   "source": [
    "## 将积分以列表形式导出"
   ]
  },
  {
   "cell_type": "code",
   "execution_count": 13,
   "id": "e8220982",
   "metadata": {
    "ExecuteTime": {
     "end_time": "2024-09-05T14:39:49.459450Z",
     "start_time": "2024-09-05T14:39:49.455659Z"
    }
   },
   "outputs": [],
   "source": [
    "所有项目积分 = {}"
   ]
  },
  {
   "cell_type": "code",
   "execution_count": 14,
   "id": "2732fffa",
   "metadata": {
    "ExecuteTime": {
     "end_time": "2024-09-05T14:39:49.463399Z",
     "start_time": "2024-09-05T14:39:49.460628Z"
    }
   },
   "outputs": [],
   "source": [
    "def 全部项目整合(dict, dict_reindexed):\n",
    "    score = \"积分\"\n",
    "    rein = \"_reindexed\"\n",
    "    for key in dict:\n",
    "        key_n = key + score\n",
    "        key_rein = key + rein\n",
    "        所有项目积分[key_n] = 单独项目赋分(dict_reindexed[key_rein], final_df_reindexed)"
   ]
  },
  {
   "cell_type": "code",
   "execution_count": 15,
   "id": "46120311",
   "metadata": {
    "ExecuteTime": {
     "end_time": "2024-09-05T14:39:49.467865Z",
     "start_time": "2024-09-05T14:39:49.464669Z"
    }
   },
   "outputs": [],
   "source": [
    "全部项目整合(data_dict, data_dict_reindexed)"
   ]
  },
  {
   "cell_type": "code",
   "execution_count": 16,
   "id": "2a251cfb",
   "metadata": {
    "ExecuteTime": {
     "end_time": "2024-09-05T14:39:49.472434Z",
     "start_time": "2024-09-05T14:39:49.468956Z"
    }
   },
   "outputs": [
    {
     "data": {
      "text/plain": [
       "19"
      ]
     },
     "execution_count": 16,
     "metadata": {},
     "output_type": "execute_result"
    }
   ],
   "source": [
    "len(所有项目积分[\"单词积分\"])"
   ]
  },
  {
   "cell_type": "code",
   "execution_count": 18,
   "id": "f58c167d",
   "metadata": {
    "ExecuteTime": {
     "end_time": "2024-09-05T14:39:57.764335Z",
     "start_time": "2024-09-05T14:39:57.761791Z"
    }
   },
   "outputs": [],
   "source": [
    "# len(所有项目积分['记账积分'])"
   ]
  },
  {
   "cell_type": "code",
   "execution_count": 19,
   "id": "a113b9f3",
   "metadata": {
    "ExecuteTime": {
     "end_time": "2024-09-05T14:39:58.356918Z",
     "start_time": "2024-09-05T14:39:58.353594Z"
    }
   },
   "outputs": [
    {
     "data": {
      "text/plain": [
       "19"
      ]
     },
     "execution_count": 19,
     "metadata": {},
     "output_type": "execute_result"
    }
   ],
   "source": [
    "len(所有项目积分['跑步积分'])"
   ]
  },
  {
   "cell_type": "code",
   "execution_count": 20,
   "id": "9ef756f6",
   "metadata": {
    "ExecuteTime": {
     "end_time": "2024-09-05T14:39:58.709668Z",
     "start_time": "2024-09-05T14:39:58.705642Z"
    }
   },
   "outputs": [
    {
     "data": {
      "text/plain": [
       "[0, 0, 0, 0, 0, 0, 0, 0, 0, 8, 0, 0, 0, 0, 0, 14, 13, 10, 9]"
      ]
     },
     "execution_count": 20,
     "metadata": {},
     "output_type": "execute_result"
    }
   ],
   "source": [
    "len(所有项目积分['光盘积分'])\n",
    "所有项目积分['光盘积分']"
   ]
  },
  {
   "cell_type": "code",
   "execution_count": 21,
   "id": "b7588f0f",
   "metadata": {
    "ExecuteTime": {
     "end_time": "2024-09-05T14:39:59.032357Z",
     "start_time": "2024-09-05T14:39:59.029149Z"
    }
   },
   "outputs": [
    {
     "data": {
      "text/plain": [
       "[14, 13, 6, 4, 1, 0, 0, 0, 0, 0, 0, 0, 0, 0, 0, 0, 0, 0, 0]"
      ]
     },
     "execution_count": 21,
     "metadata": {},
     "output_type": "execute_result"
    }
   ],
   "source": [
    "len(所有项目积分['练字积分'])\n",
    "所有项目积分['练字积分']"
   ]
  },
  {
   "cell_type": "markdown",
   "id": "9decb42c",
   "metadata": {},
   "source": [
    "## 在最终结果中的DataFrame中创建五个新的列，然后将各项目的积分加到列中"
   ]
  },
  {
   "cell_type": "code",
   "execution_count": 22,
   "id": "4af0acc9",
   "metadata": {
    "ExecuteTime": {
     "end_time": "2024-09-05T14:40:01.296454Z",
     "start_time": "2024-09-05T14:40:01.293860Z"
    }
   },
   "outputs": [],
   "source": [
    "final_dataframe = final_df_reindexed"
   ]
  },
  {
   "cell_type": "code",
   "execution_count": 23,
   "id": "fb7151c3",
   "metadata": {
    "ExecuteTime": {
     "end_time": "2024-09-05T14:40:01.807114Z",
     "start_time": "2024-09-05T14:40:01.804480Z"
    }
   },
   "outputs": [],
   "source": [
    "def dataframe_add_events_columns(data_score):\n",
    "    for key in data_score:\n",
    "        final_dataframe[key] = data_score[key]"
   ]
  },
  {
   "cell_type": "code",
   "execution_count": 24,
   "id": "f715ff37",
   "metadata": {
    "ExecuteTime": {
     "end_time": "2024-09-05T14:40:02.265128Z",
     "start_time": "2024-09-05T14:40:02.260731Z"
    }
   },
   "outputs": [],
   "source": [
    "dataframe_add_events_columns(所有项目积分)"
   ]
  },
  {
   "cell_type": "code",
   "execution_count": 26,
   "id": "2965fed6",
   "metadata": {
    "ExecuteTime": {
     "end_time": "2024-09-05T14:40:02.973808Z",
     "start_time": "2024-09-05T14:40:02.967142Z"
    }
   },
   "outputs": [
    {
     "data": {
      "text/html": [
       "<div>\n",
       "<style scoped>\n",
       "    .dataframe tbody tr th:only-of-type {\n",
       "        vertical-align: middle;\n",
       "    }\n",
       "\n",
       "    .dataframe tbody tr th {\n",
       "        vertical-align: top;\n",
       "    }\n",
       "\n",
       "    .dataframe thead th {\n",
       "        text-align: right;\n",
       "    }\n",
       "</style>\n",
       "<table border=\"1\" class=\"dataframe\">\n",
       "  <thead>\n",
       "    <tr style=\"text-align: right;\">\n",
       "      <th></th>\n",
       "      <th>0</th>\n",
       "      <th>练字积分</th>\n",
       "      <th>单词积分</th>\n",
       "      <th>跑步积分</th>\n",
       "      <th>光盘积分</th>\n",
       "    </tr>\n",
       "    <tr>\n",
       "      <th>0</th>\n",
       "      <th></th>\n",
       "      <th></th>\n",
       "      <th></th>\n",
       "      <th></th>\n",
       "      <th></th>\n",
       "    </tr>\n",
       "  </thead>\n",
       "  <tbody>\n",
       "    <tr>\n",
       "      <th>1034111911兰斯</th>\n",
       "      <td>1034111911兰斯</td>\n",
       "      <td>14</td>\n",
       "      <td>0</td>\n",
       "      <td>0</td>\n",
       "      <td>0</td>\n",
       "    </tr>\n",
       "    <tr>\n",
       "      <th>1024533380孙笑川</th>\n",
       "      <td>1024533380孙笑川</td>\n",
       "      <td>13</td>\n",
       "      <td>0</td>\n",
       "      <td>0</td>\n",
       "      <td>0</td>\n",
       "    </tr>\n",
       "    <tr>\n",
       "      <th>1044453937王八</th>\n",
       "      <td>1044453937王八</td>\n",
       "      <td>6</td>\n",
       "      <td>0</td>\n",
       "      <td>0</td>\n",
       "      <td>0</td>\n",
       "    </tr>\n",
       "    <tr>\n",
       "      <th>1034343407王雷</th>\n",
       "      <td>1034343407王雷</td>\n",
       "      <td>4</td>\n",
       "      <td>0</td>\n",
       "      <td>0</td>\n",
       "      <td>0</td>\n",
       "    </tr>\n",
       "    <tr>\n",
       "      <th>1024191981张全蛋</th>\n",
       "      <td>1024191981张全蛋</td>\n",
       "      <td>1</td>\n",
       "      <td>0</td>\n",
       "      <td>0</td>\n",
       "      <td>0</td>\n",
       "    </tr>\n",
       "    <tr>\n",
       "      <th>1024102265陈楞宇</th>\n",
       "      <td>1024102265陈楞宇</td>\n",
       "      <td>0</td>\n",
       "      <td>28</td>\n",
       "      <td>0</td>\n",
       "      <td>0</td>\n",
       "    </tr>\n",
       "    <tr>\n",
       "      <th>1034104114王晓为</th>\n",
       "      <td>1034104114王晓为</td>\n",
       "      <td>0</td>\n",
       "      <td>28</td>\n",
       "      <td>0</td>\n",
       "      <td>0</td>\n",
       "    </tr>\n",
       "    <tr>\n",
       "      <th>1024100594彭泽军</th>\n",
       "      <td>1024100594彭泽军</td>\n",
       "      <td>0</td>\n",
       "      <td>28</td>\n",
       "      <td>0</td>\n",
       "      <td>0</td>\n",
       "    </tr>\n",
       "    <tr>\n",
       "      <th>1034103034梁左先</th>\n",
       "      <td>1034103034梁左先</td>\n",
       "      <td>0</td>\n",
       "      <td>28</td>\n",
       "      <td>0</td>\n",
       "      <td>0</td>\n",
       "    </tr>\n",
       "    <tr>\n",
       "      <th>1044114514李田所</th>\n",
       "      <td>1044114514李田所</td>\n",
       "      <td>0</td>\n",
       "      <td>28</td>\n",
       "      <td>0</td>\n",
       "      <td>8</td>\n",
       "    </tr>\n",
       "    <tr>\n",
       "      <th>1024132849林林</th>\n",
       "      <td>1024132849林林</td>\n",
       "      <td>0</td>\n",
       "      <td>0</td>\n",
       "      <td>14</td>\n",
       "      <td>0</td>\n",
       "    </tr>\n",
       "    <tr>\n",
       "      <th>1044100120梁凌薇</th>\n",
       "      <td>1044100120梁凌薇</td>\n",
       "      <td>0</td>\n",
       "      <td>0</td>\n",
       "      <td>14</td>\n",
       "      <td>0</td>\n",
       "    </tr>\n",
       "    <tr>\n",
       "      <th>1034722522罗小黑</th>\n",
       "      <td>1034722522罗小黑</td>\n",
       "      <td>0</td>\n",
       "      <td>0</td>\n",
       "      <td>12</td>\n",
       "      <td>0</td>\n",
       "    </tr>\n",
       "    <tr>\n",
       "      <th>1044453125妃咲</th>\n",
       "      <td>1044453125妃咲</td>\n",
       "      <td>0</td>\n",
       "      <td>0</td>\n",
       "      <td>11</td>\n",
       "      <td>0</td>\n",
       "    </tr>\n",
       "    <tr>\n",
       "      <th>1054321380圣园未花</th>\n",
       "      <td>1054321380圣园未花</td>\n",
       "      <td>0</td>\n",
       "      <td>0</td>\n",
       "      <td>0</td>\n",
       "      <td>0</td>\n",
       "    </tr>\n",
       "    <tr>\n",
       "      <th>1024154424邓家叶</th>\n",
       "      <td>1024154424邓家叶</td>\n",
       "      <td>0</td>\n",
       "      <td>0</td>\n",
       "      <td>0</td>\n",
       "      <td>14</td>\n",
       "    </tr>\n",
       "    <tr>\n",
       "      <th>1034102534彭学运</th>\n",
       "      <td>1034102534彭学运</td>\n",
       "      <td>0</td>\n",
       "      <td>0</td>\n",
       "      <td>0</td>\n",
       "      <td>13</td>\n",
       "    </tr>\n",
       "    <tr>\n",
       "      <th>1034145258高思远</th>\n",
       "      <td>1034145258高思远</td>\n",
       "      <td>0</td>\n",
       "      <td>0</td>\n",
       "      <td>0</td>\n",
       "      <td>10</td>\n",
       "    </tr>\n",
       "    <tr>\n",
       "      <th>1024102730陈于轩</th>\n",
       "      <td>1024102730陈于轩</td>\n",
       "      <td>0</td>\n",
       "      <td>0</td>\n",
       "      <td>0</td>\n",
       "      <td>9</td>\n",
       "    </tr>\n",
       "  </tbody>\n",
       "</table>\n",
       "</div>"
      ],
      "text/plain": [
       "                             0  练字积分  单词积分  跑步积分  光盘积分\n",
       "0                                                     \n",
       "1034111911兰斯      1034111911兰斯    14     0     0     0\n",
       "1024533380孙笑川    1024533380孙笑川    13     0     0     0\n",
       "1044453937王八      1044453937王八     6     0     0     0\n",
       "1034343407王雷      1034343407王雷     4     0     0     0\n",
       "1024191981张全蛋    1024191981张全蛋     1     0     0     0\n",
       "1024102265陈楞宇    1024102265陈楞宇     0    28     0     0\n",
       "1034104114王晓为    1034104114王晓为     0    28     0     0\n",
       "1024100594彭泽军    1024100594彭泽军     0    28     0     0\n",
       "1034103034梁左先    1034103034梁左先     0    28     0     0\n",
       "1044114514李田所    1044114514李田所     0    28     0     8\n",
       "1024132849林林      1024132849林林     0     0    14     0\n",
       "1044100120梁凌薇    1044100120梁凌薇     0     0    14     0\n",
       "1034722522罗小黑    1034722522罗小黑     0     0    12     0\n",
       "1044453125妃咲      1044453125妃咲     0     0    11     0\n",
       "1054321380圣园未花  1054321380圣园未花     0     0     0     0\n",
       "1024154424邓家叶    1024154424邓家叶     0     0     0    14\n",
       "1034102534彭学运    1034102534彭学运     0     0     0    13\n",
       "1034145258高思远    1034145258高思远     0     0     0    10\n",
       "1024102730陈于轩    1024102730陈于轩     0     0     0     9"
      ]
     },
     "execution_count": 26,
     "metadata": {},
     "output_type": "execute_result"
    }
   ],
   "source": [
    "final_dataframe"
   ]
  },
  {
   "cell_type": "markdown",
   "id": "83999035",
   "metadata": {},
   "source": [
    "## 计算总积分"
   ]
  },
  {
   "cell_type": "markdown",
   "id": "c309832d",
   "metadata": {},
   "source": [
    "### 计算总积分的函数"
   ]
  },
  {
   "cell_type": "code",
   "execution_count": 27,
   "id": "5682434e",
   "metadata": {
    "ExecuteTime": {
     "end_time": "2024-09-05T14:40:07.658038Z",
     "start_time": "2024-09-05T14:40:07.653613Z"
    }
   },
   "outputs": [
    {
     "data": {
      "text/plain": [
       "['练字积分', '单词积分', '跑步积分', '光盘积分']"
      ]
     },
     "execution_count": 27,
     "metadata": {},
     "output_type": "execute_result"
    }
   ],
   "source": [
    "events_score_key = []\n",
    "for key in 所有项目积分:\n",
    "    events_score_key.append(key)\n",
    "events_score_key"
   ]
  },
  {
   "cell_type": "code",
   "execution_count": 28,
   "id": "6c5c5030",
   "metadata": {
    "ExecuteTime": {
     "end_time": "2024-09-05T14:40:08.519311Z",
     "start_time": "2024-09-05T14:40:08.515834Z"
    }
   },
   "outputs": [],
   "source": [
    "def final_score_sum(df, data_key):\n",
    "    final_score = [] # 创建总积分列表\n",
    "    \n",
    "    for name in df[0]: # 遍历每一个名字\n",
    "        a = 0 \n",
    "        for events in data_key:\n",
    "            a = a + df.loc[name, events]\n",
    "        # a = df.loc[df1, \"单词积分\"] + df.loc[df1, \"跑步积分\"] + df.loc[df1, \"记账积分\"] + df.loc[df1, \"练字积分\"] + df.loc[df1, \"光盘积分\"]\n",
    "        # 将每一个人的各项目积分按行求和\n",
    "        final_score.append(a) # 按顺序加入到总积分列表后面\n",
    "        \n",
    "    return final_score # 返回总积分"
   ]
  },
  {
   "cell_type": "markdown",
   "id": "b11f91fd",
   "metadata": {},
   "source": [
    "### 计算总积分"
   ]
  },
  {
   "cell_type": "code",
   "execution_count": 29,
   "id": "48182a3f",
   "metadata": {
    "ExecuteTime": {
     "end_time": "2024-09-05T14:40:10.011906Z",
     "start_time": "2024-09-05T14:40:10.008319Z"
    }
   },
   "outputs": [],
   "source": [
    "final_score = final_score_sum(final_dataframe, events_score_key) # 调用函数"
   ]
  },
  {
   "cell_type": "code",
   "execution_count": 30,
   "id": "9a343217",
   "metadata": {
    "ExecuteTime": {
     "end_time": "2024-09-05T14:40:13.148304Z",
     "start_time": "2024-09-05T14:40:13.145072Z"
    }
   },
   "outputs": [
    {
     "data": {
      "text/plain": [
       "19"
      ]
     },
     "execution_count": 30,
     "metadata": {},
     "output_type": "execute_result"
    }
   ],
   "source": [
    "len(final_score)"
   ]
  },
  {
   "cell_type": "markdown",
   "id": "c0a2571f",
   "metadata": {},
   "source": [
    "### 将总积分加入到DataFrame中"
   ]
  },
  {
   "cell_type": "code",
   "execution_count": 31,
   "id": "fcd67313",
   "metadata": {
    "ExecuteTime": {
     "end_time": "2024-09-05T14:40:14.732026Z",
     "start_time": "2024-09-05T14:40:14.725846Z"
    }
   },
   "outputs": [
    {
     "data": {
      "text/html": [
       "<div>\n",
       "<style scoped>\n",
       "    .dataframe tbody tr th:only-of-type {\n",
       "        vertical-align: middle;\n",
       "    }\n",
       "\n",
       "    .dataframe tbody tr th {\n",
       "        vertical-align: top;\n",
       "    }\n",
       "\n",
       "    .dataframe thead th {\n",
       "        text-align: right;\n",
       "    }\n",
       "</style>\n",
       "<table border=\"1\" class=\"dataframe\">\n",
       "  <thead>\n",
       "    <tr style=\"text-align: right;\">\n",
       "      <th></th>\n",
       "      <th>0</th>\n",
       "      <th>练字积分</th>\n",
       "      <th>单词积分</th>\n",
       "      <th>跑步积分</th>\n",
       "      <th>光盘积分</th>\n",
       "      <th>总积分</th>\n",
       "    </tr>\n",
       "    <tr>\n",
       "      <th>0</th>\n",
       "      <th></th>\n",
       "      <th></th>\n",
       "      <th></th>\n",
       "      <th></th>\n",
       "      <th></th>\n",
       "      <th></th>\n",
       "    </tr>\n",
       "  </thead>\n",
       "  <tbody>\n",
       "    <tr>\n",
       "      <th>1034111911兰斯</th>\n",
       "      <td>1034111911兰斯</td>\n",
       "      <td>14</td>\n",
       "      <td>0</td>\n",
       "      <td>0</td>\n",
       "      <td>0</td>\n",
       "      <td>14</td>\n",
       "    </tr>\n",
       "    <tr>\n",
       "      <th>1024533380孙笑川</th>\n",
       "      <td>1024533380孙笑川</td>\n",
       "      <td>13</td>\n",
       "      <td>0</td>\n",
       "      <td>0</td>\n",
       "      <td>0</td>\n",
       "      <td>13</td>\n",
       "    </tr>\n",
       "    <tr>\n",
       "      <th>1044453937王八</th>\n",
       "      <td>1044453937王八</td>\n",
       "      <td>6</td>\n",
       "      <td>0</td>\n",
       "      <td>0</td>\n",
       "      <td>0</td>\n",
       "      <td>6</td>\n",
       "    </tr>\n",
       "    <tr>\n",
       "      <th>1034343407王雷</th>\n",
       "      <td>1034343407王雷</td>\n",
       "      <td>4</td>\n",
       "      <td>0</td>\n",
       "      <td>0</td>\n",
       "      <td>0</td>\n",
       "      <td>4</td>\n",
       "    </tr>\n",
       "    <tr>\n",
       "      <th>1024191981张全蛋</th>\n",
       "      <td>1024191981张全蛋</td>\n",
       "      <td>1</td>\n",
       "      <td>0</td>\n",
       "      <td>0</td>\n",
       "      <td>0</td>\n",
       "      <td>1</td>\n",
       "    </tr>\n",
       "    <tr>\n",
       "      <th>1024102265陈楞宇</th>\n",
       "      <td>1024102265陈楞宇</td>\n",
       "      <td>0</td>\n",
       "      <td>28</td>\n",
       "      <td>0</td>\n",
       "      <td>0</td>\n",
       "      <td>28</td>\n",
       "    </tr>\n",
       "    <tr>\n",
       "      <th>1034104114王晓为</th>\n",
       "      <td>1034104114王晓为</td>\n",
       "      <td>0</td>\n",
       "      <td>28</td>\n",
       "      <td>0</td>\n",
       "      <td>0</td>\n",
       "      <td>28</td>\n",
       "    </tr>\n",
       "    <tr>\n",
       "      <th>1024100594彭泽军</th>\n",
       "      <td>1024100594彭泽军</td>\n",
       "      <td>0</td>\n",
       "      <td>28</td>\n",
       "      <td>0</td>\n",
       "      <td>0</td>\n",
       "      <td>28</td>\n",
       "    </tr>\n",
       "    <tr>\n",
       "      <th>1034103034梁左先</th>\n",
       "      <td>1034103034梁左先</td>\n",
       "      <td>0</td>\n",
       "      <td>28</td>\n",
       "      <td>0</td>\n",
       "      <td>0</td>\n",
       "      <td>28</td>\n",
       "    </tr>\n",
       "    <tr>\n",
       "      <th>1044114514李田所</th>\n",
       "      <td>1044114514李田所</td>\n",
       "      <td>0</td>\n",
       "      <td>28</td>\n",
       "      <td>0</td>\n",
       "      <td>8</td>\n",
       "      <td>36</td>\n",
       "    </tr>\n",
       "    <tr>\n",
       "      <th>1024132849林林</th>\n",
       "      <td>1024132849林林</td>\n",
       "      <td>0</td>\n",
       "      <td>0</td>\n",
       "      <td>14</td>\n",
       "      <td>0</td>\n",
       "      <td>14</td>\n",
       "    </tr>\n",
       "    <tr>\n",
       "      <th>1044100120梁凌薇</th>\n",
       "      <td>1044100120梁凌薇</td>\n",
       "      <td>0</td>\n",
       "      <td>0</td>\n",
       "      <td>14</td>\n",
       "      <td>0</td>\n",
       "      <td>14</td>\n",
       "    </tr>\n",
       "    <tr>\n",
       "      <th>1034722522罗小黑</th>\n",
       "      <td>1034722522罗小黑</td>\n",
       "      <td>0</td>\n",
       "      <td>0</td>\n",
       "      <td>12</td>\n",
       "      <td>0</td>\n",
       "      <td>12</td>\n",
       "    </tr>\n",
       "    <tr>\n",
       "      <th>1044453125妃咲</th>\n",
       "      <td>1044453125妃咲</td>\n",
       "      <td>0</td>\n",
       "      <td>0</td>\n",
       "      <td>11</td>\n",
       "      <td>0</td>\n",
       "      <td>11</td>\n",
       "    </tr>\n",
       "    <tr>\n",
       "      <th>1054321380圣园未花</th>\n",
       "      <td>1054321380圣园未花</td>\n",
       "      <td>0</td>\n",
       "      <td>0</td>\n",
       "      <td>0</td>\n",
       "      <td>0</td>\n",
       "      <td>0</td>\n",
       "    </tr>\n",
       "    <tr>\n",
       "      <th>1024154424邓家叶</th>\n",
       "      <td>1024154424邓家叶</td>\n",
       "      <td>0</td>\n",
       "      <td>0</td>\n",
       "      <td>0</td>\n",
       "      <td>14</td>\n",
       "      <td>14</td>\n",
       "    </tr>\n",
       "    <tr>\n",
       "      <th>1034102534彭学运</th>\n",
       "      <td>1034102534彭学运</td>\n",
       "      <td>0</td>\n",
       "      <td>0</td>\n",
       "      <td>0</td>\n",
       "      <td>13</td>\n",
       "      <td>13</td>\n",
       "    </tr>\n",
       "    <tr>\n",
       "      <th>1034145258高思远</th>\n",
       "      <td>1034145258高思远</td>\n",
       "      <td>0</td>\n",
       "      <td>0</td>\n",
       "      <td>0</td>\n",
       "      <td>10</td>\n",
       "      <td>10</td>\n",
       "    </tr>\n",
       "    <tr>\n",
       "      <th>1024102730陈于轩</th>\n",
       "      <td>1024102730陈于轩</td>\n",
       "      <td>0</td>\n",
       "      <td>0</td>\n",
       "      <td>0</td>\n",
       "      <td>9</td>\n",
       "      <td>9</td>\n",
       "    </tr>\n",
       "  </tbody>\n",
       "</table>\n",
       "</div>"
      ],
      "text/plain": [
       "                             0  练字积分  单词积分  跑步积分  光盘积分  总积分\n",
       "0                                                          \n",
       "1034111911兰斯      1034111911兰斯    14     0     0     0   14\n",
       "1024533380孙笑川    1024533380孙笑川    13     0     0     0   13\n",
       "1044453937王八      1044453937王八     6     0     0     0    6\n",
       "1034343407王雷      1034343407王雷     4     0     0     0    4\n",
       "1024191981张全蛋    1024191981张全蛋     1     0     0     0    1\n",
       "1024102265陈楞宇    1024102265陈楞宇     0    28     0     0   28\n",
       "1034104114王晓为    1034104114王晓为     0    28     0     0   28\n",
       "1024100594彭泽军    1024100594彭泽军     0    28     0     0   28\n",
       "1034103034梁左先    1034103034梁左先     0    28     0     0   28\n",
       "1044114514李田所    1044114514李田所     0    28     0     8   36\n",
       "1024132849林林      1024132849林林     0     0    14     0   14\n",
       "1044100120梁凌薇    1044100120梁凌薇     0     0    14     0   14\n",
       "1034722522罗小黑    1034722522罗小黑     0     0    12     0   12\n",
       "1044453125妃咲      1044453125妃咲     0     0    11     0   11\n",
       "1054321380圣园未花  1054321380圣园未花     0     0     0     0    0\n",
       "1024154424邓家叶    1024154424邓家叶     0     0     0    14   14\n",
       "1034102534彭学运    1034102534彭学运     0     0     0    13   13\n",
       "1034145258高思远    1034145258高思远     0     0     0    10   10\n",
       "1024102730陈于轩    1024102730陈于轩     0     0     0     9    9"
      ]
     },
     "execution_count": 31,
     "metadata": {},
     "output_type": "execute_result"
    }
   ],
   "source": [
    "final_dataframe[\"总积分\"] = final_score # 创建新列，载入总积分\n",
    "final_dataframe"
   ]
  },
  {
   "cell_type": "markdown",
   "id": "b85231d8",
   "metadata": {},
   "source": [
    "## 将最终结果导出到excel"
   ]
  },
  {
   "cell_type": "code",
   "execution_count": 32,
   "id": "9be440fa",
   "metadata": {
    "ExecuteTime": {
     "end_time": "2024-09-05T14:40:15.984406Z",
     "start_time": "2024-09-05T14:40:15.964332Z"
    }
   },
   "outputs": [],
   "source": [
    "final_dataframe.to_excel('总积分表.xlsx', index=False) # 导出，文件名为“总积分表.xlsx”"
   ]
  },
  {
   "cell_type": "code",
   "execution_count": null,
   "id": "c1d3d74e",
   "metadata": {},
   "outputs": [],
   "source": []
  }
 ],
 "metadata": {
  "kernelspec": {
   "display_name": "Python 3 (ipykernel)",
   "language": "python",
   "name": "python3"
  },
  "language_info": {
   "codemirror_mode": {
    "name": "ipython",
    "version": 3
   },
   "file_extension": ".py",
   "mimetype": "text/x-python",
   "name": "python",
   "nbconvert_exporter": "python",
   "pygments_lexer": "ipython3",
   "version": "3.12.0"
  },
  "nbTranslate": {
   "displayLangs": [
    "*"
   ],
   "hotkey": "alt-t",
   "langInMainMenu": true,
   "sourceLang": "en",
   "targetLang": "fr",
   "useGoogleTranslate": true
  }
 },
 "nbformat": 4,
 "nbformat_minor": 5
}
